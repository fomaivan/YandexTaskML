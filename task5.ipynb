{
 "cells": [
  {
   "cell_type": "code",
   "execution_count": 1,
   "outputs": [],
   "source": [
    "import os\n",
    "from PIL import Image\n",
    "from torchvision import transforms"
   ],
   "metadata": {
    "collapsed": false,
    "ExecuteTime": {
     "start_time": "2023-05-05T16:29:59.510591Z",
     "end_time": "2023-05-05T16:30:00.840681Z"
    }
   }
  },
  {
   "cell_type": "code",
   "execution_count": 2,
   "outputs": [],
   "source": [
    "import torch\n",
    "from tqdm import tqdm\n",
    "from torchvision import models"
   ],
   "metadata": {
    "collapsed": false,
    "ExecuteTime": {
     "start_time": "2023-05-05T16:30:02.141897Z",
     "end_time": "2023-05-05T16:30:02.156709Z"
    }
   }
  },
  {
   "cell_type": "code",
   "execution_count": 3,
   "outputs": [],
   "source": [
    "# needed input dimensions for the CNN\n",
    "inputDim = (224,224)\n",
    "inputDir = 'dataset/'\n",
    "inputDirCNN = 'dataset/'"
   ],
   "metadata": {
    "collapsed": false,
    "ExecuteTime": {
     "start_time": "2023-05-05T16:30:02.671563Z",
     "end_time": "2023-05-05T16:30:02.674920Z"
    }
   }
  },
  {
   "cell_type": "code",
   "execution_count": 4,
   "outputs": [],
   "source": [
    "os.makedirs(inputDirCNN, exist_ok = True)"
   ],
   "metadata": {
    "collapsed": false,
    "ExecuteTime": {
     "start_time": "2023-05-05T16:30:03.524559Z",
     "end_time": "2023-05-05T16:30:03.531859Z"
    }
   }
  },
  {
   "cell_type": "code",
   "execution_count": 5,
   "outputs": [],
   "source": [
    "transformationForCNNInput = transforms.Compose([transforms.Resize(inputDim)])"
   ],
   "metadata": {
    "collapsed": false,
    "ExecuteTime": {
     "start_time": "2023-05-05T16:30:04.103135Z",
     "end_time": "2023-05-05T16:30:04.108549Z"
    }
   }
  },
  {
   "cell_type": "code",
   "execution_count": 6,
   "outputs": [],
   "source": [
    "list_dir = os.listdir(inputDir)\n",
    "list_dir.sort()"
   ],
   "metadata": {
    "collapsed": false,
    "ExecuteTime": {
     "start_time": "2023-05-05T16:30:04.636701Z",
     "end_time": "2023-05-05T16:30:04.648520Z"
    }
   }
  },
  {
   "cell_type": "code",
   "execution_count": 7,
   "outputs": [],
   "source": [
    "for imageName in list_dir:\n",
    "    I = Image.open(os.path.join(inputDir, imageName)).convert('RGB')\n",
    "    newI = transformationForCNNInput(I)\n",
    "\n",
    "    exif = I.getexif()\n",
    "    newI.save(os.path.join(inputDirCNN, imageName), exif=exif)\n",
    "\n",
    "    newI.close()\n",
    "    I.close()"
   ],
   "metadata": {
    "collapsed": false,
    "ExecuteTime": {
     "start_time": "2023-05-05T16:30:05.371413Z",
     "end_time": "2023-05-05T16:31:57.894573Z"
    }
   }
  },
  {
   "cell_type": "code",
   "execution_count": 8,
   "outputs": [],
   "source": [
    "class Img2VecResnet152():\n",
    "    def __init__(self):\n",
    "\n",
    "        self.device = torch.device(\"cpu\")\n",
    "        self.numberFeatures = 2048\n",
    "        self.modelName = \"resnet-152\"\n",
    "        self.model, self.featureLayer = self.getFeatureLayer()\n",
    "        self.model = self.model.to(self.device)\n",
    "        self.model.eval()\n",
    "        self.toTensor = transforms.ToTensor()\n",
    "\n",
    "        # normalize the resized images as expected by resnet152\n",
    "        # [0.485, 0.456, 0.406] --> normalized mean value of ImageNet, [0.229, 0.224, 0.225] std of ImageNet\n",
    "        self.normalize = transforms.Normalize(mean=[0.485, 0.456, 0.406], std=[0.229, 0.224, 0.225])\n",
    "\n",
    "    def getVec(self, img):\n",
    "        image = self.normalize(self.toTensor(img)).unsqueeze(0).to(self.device)\n",
    "        embedding = torch.zeros(1, self.numberFeatures, 1, 1)\n",
    "\n",
    "        def copyData(m, i, o): embedding.copy_(o.data)\n",
    "\n",
    "        h = self.featureLayer.register_forward_hook(copyData)\n",
    "        self.model(image)\n",
    "        h.remove()\n",
    "\n",
    "        return embedding.numpy()[0, :, 0, 0]\n",
    "\n",
    "    def getFeatureLayer(self):\n",
    "        cnnModel = models.resnet152(pretrained=True)\n",
    "        layer = cnnModel._modules.get('avgpool')\n",
    "        # self.layer_output_size = 512\n",
    "        self.layer_output_size = 2048\n",
    "\n",
    "        return cnnModel, layer"
   ],
   "metadata": {
    "collapsed": false,
    "ExecuteTime": {
     "start_time": "2023-05-05T16:35:04.269260Z",
     "end_time": "2023-05-05T16:35:04.288484Z"
    }
   }
  },
  {
   "cell_type": "code",
   "execution_count": 9,
   "outputs": [
    {
     "name": "stderr",
     "output_type": "stream",
     "text": [
      "/Users/fomin_ivan/miniconda/lib/python3.10/site-packages/torchvision/models/_utils.py:208: UserWarning: The parameter 'pretrained' is deprecated since 0.13 and may be removed in the future, please use 'weights' instead.\n",
      "  warnings.warn(\n",
      "/Users/fomin_ivan/miniconda/lib/python3.10/site-packages/torchvision/models/_utils.py:223: UserWarning: Arguments other than a weight enum or `None` for 'weights' are deprecated since 0.13 and may be removed in the future. The current behavior is equivalent to passing `weights=ResNet152_Weights.IMAGENET1K_V1`. You can also use `weights=ResNet152_Weights.DEFAULT` to get the most up-to-date weights.\n",
      "  warnings.warn(msg)\n"
     ]
    },
    {
     "name": "stdout",
     "output_type": "stream",
     "text": [
      "Converting images to feature vectors:\n"
     ]
    },
    {
     "name": "stderr",
     "output_type": "stream",
     "text": [
      "100%|██████████| 9605/9605 [13:42<00:00, 11.68it/s]\n"
     ]
    }
   ],
   "source": [
    "# generate vectors for all the images in the set\n",
    "img2vec = Img2VecResnet152()\n",
    "\n",
    "allVectors = {}\n",
    "print(\"Converting images to feature vectors:\")\n",
    "for image in tqdm(list_dir):\n",
    "    I = Image.open(os.path.join(inputDirCNN, image))\n",
    "    vec = img2vec.getVec(I)\n",
    "    allVectors[image] = vec\n",
    "    I.close()"
   ],
   "metadata": {
    "collapsed": false,
    "ExecuteTime": {
     "start_time": "2023-05-05T16:35:05.497850Z",
     "end_time": "2023-05-05T16:48:49.515357Z"
    }
   }
  },
  {
   "cell_type": "code",
   "execution_count": 10,
   "outputs": [],
   "source": [
    "# now let us define a function that calculates the cosine similarity entries in the similarity matrix\n",
    "import pandas as pd\n",
    "import numpy as np\n",
    "\n",
    "def getSimilarityMatrix(vectors):\n",
    "    v = np.array(list(vectors.values())).T\n",
    "    sim = np.inner(v.T, v.T) / ((np.linalg.norm(v, axis=0).reshape(-1,1)) * ((np.linalg.norm(v, axis=0).reshape(-1,1)).T))\n",
    "    keys = list(vectors.keys())\n",
    "    matrix = pd.DataFrame(sim, columns = keys, index = keys)\n",
    "\n",
    "    return matrix\n",
    "\n",
    "similarityMatrix = getSimilarityMatrix(allVectors)"
   ],
   "metadata": {
    "collapsed": false,
    "ExecuteTime": {
     "start_time": "2023-05-05T16:48:56.803415Z",
     "end_time": "2023-05-05T16:48:58.442248Z"
    }
   }
  },
  {
   "cell_type": "code",
   "execution_count": 11,
   "outputs": [
    {
     "name": "stderr",
     "output_type": "stream",
     "text": [
      "100%|██████████| 9605/9605 [00:07<00:00, 1334.01it/s]\n"
     ]
    }
   ],
   "source": [
    "from numpy.testing import assert_almost_equal\n",
    "import pickle\n",
    "\n",
    "k = 7 # the number of top similar images to be stored\n",
    "\n",
    "similarNames = pd.DataFrame(index = similarityMatrix.index, columns = range(k))\n",
    "\n",
    "for j in tqdm(range(similarityMatrix.shape[0])):\n",
    "    kSimilar = similarityMatrix.iloc[j, :].sort_values(ascending = False).head(k)\n",
    "    similarNames.iloc[j, :] = list(kSimilar.index)\n",
    "\n",
    "df = similarNames"
   ],
   "metadata": {
    "collapsed": false,
    "ExecuteTime": {
     "start_time": "2023-05-05T16:49:00.403255Z",
     "end_time": "2023-05-05T16:49:07.622861Z"
    }
   }
  },
  {
   "cell_type": "code",
   "execution_count": 12,
   "outputs": [
    {
     "data": {
      "text/plain": "                 0         1         2         3         4         5         6\n0000.png  0000.png  8222.png  2023.png  7420.png  7447.png  8492.png  1735.png\n0001.png  0001.png  5193.png  5029.png  1995.png  1149.png  6470.png  3598.png\n0002.png  0002.png  5492.png  7688.png  3977.png  1858.png  2448.png  5508.png\n0003.png  0003.png  6017.png  1393.png  1348.png  5911.png  9169.png  3873.png\n0004.png  0004.png  6371.png  4593.png  7238.png  0258.png  2470.png  2961.png",
      "text/html": "<div>\n<style scoped>\n    .dataframe tbody tr th:only-of-type {\n        vertical-align: middle;\n    }\n\n    .dataframe tbody tr th {\n        vertical-align: top;\n    }\n\n    .dataframe thead th {\n        text-align: right;\n    }\n</style>\n<table border=\"1\" class=\"dataframe\">\n  <thead>\n    <tr style=\"text-align: right;\">\n      <th></th>\n      <th>0</th>\n      <th>1</th>\n      <th>2</th>\n      <th>3</th>\n      <th>4</th>\n      <th>5</th>\n      <th>6</th>\n    </tr>\n  </thead>\n  <tbody>\n    <tr>\n      <th>0000.png</th>\n      <td>0000.png</td>\n      <td>8222.png</td>\n      <td>2023.png</td>\n      <td>7420.png</td>\n      <td>7447.png</td>\n      <td>8492.png</td>\n      <td>1735.png</td>\n    </tr>\n    <tr>\n      <th>0001.png</th>\n      <td>0001.png</td>\n      <td>5193.png</td>\n      <td>5029.png</td>\n      <td>1995.png</td>\n      <td>1149.png</td>\n      <td>6470.png</td>\n      <td>3598.png</td>\n    </tr>\n    <tr>\n      <th>0002.png</th>\n      <td>0002.png</td>\n      <td>5492.png</td>\n      <td>7688.png</td>\n      <td>3977.png</td>\n      <td>1858.png</td>\n      <td>2448.png</td>\n      <td>5508.png</td>\n    </tr>\n    <tr>\n      <th>0003.png</th>\n      <td>0003.png</td>\n      <td>6017.png</td>\n      <td>1393.png</td>\n      <td>1348.png</td>\n      <td>5911.png</td>\n      <td>9169.png</td>\n      <td>3873.png</td>\n    </tr>\n    <tr>\n      <th>0004.png</th>\n      <td>0004.png</td>\n      <td>6371.png</td>\n      <td>4593.png</td>\n      <td>7238.png</td>\n      <td>0258.png</td>\n      <td>2470.png</td>\n      <td>2961.png</td>\n    </tr>\n  </tbody>\n</table>\n</div>"
     },
     "execution_count": 12,
     "metadata": {},
     "output_type": "execute_result"
    }
   ],
   "source": [
    "df.head()"
   ],
   "metadata": {
    "collapsed": false,
    "ExecuteTime": {
     "start_time": "2023-05-05T16:49:08.464436Z",
     "end_time": "2023-05-05T16:49:08.480940Z"
    }
   }
  },
  {
   "cell_type": "code",
   "execution_count": 12,
   "outputs": [],
   "source": [],
   "metadata": {
    "collapsed": false,
    "ExecuteTime": {
     "start_time": "2023-05-05T16:49:11.450296Z",
     "end_time": "2023-05-05T16:49:11.457890Z"
    }
   }
  },
  {
   "cell_type": "code",
   "execution_count": 13,
   "outputs": [],
   "source": [
    "new_df = pd.DataFrame()\n",
    "new_df['filename'] = df[0]\n",
    "new_df['ranking'] = df[1] + ' ' + df[2] + ' ' + df[3] + ' ' + df[4] + ' ' + df[5] + ' ' + df[6]"
   ],
   "metadata": {
    "collapsed": false,
    "ExecuteTime": {
     "start_time": "2023-05-05T16:49:13.100009Z",
     "end_time": "2023-05-05T16:49:13.107955Z"
    }
   }
  },
  {
   "cell_type": "code",
   "execution_count": 14,
   "outputs": [
    {
     "data": {
      "text/plain": "          filename                                            ranking\n0000.png  0000.png  8222.png 2023.png 7420.png 7447.png 8492.png 1...\n0001.png  0001.png  5193.png 5029.png 1995.png 1149.png 6470.png 3...\n0002.png  0002.png  5492.png 7688.png 3977.png 1858.png 2448.png 5...\n0003.png  0003.png  6017.png 1393.png 1348.png 5911.png 9169.png 3...\n0004.png  0004.png  6371.png 4593.png 7238.png 0258.png 2470.png 2...",
      "text/html": "<div>\n<style scoped>\n    .dataframe tbody tr th:only-of-type {\n        vertical-align: middle;\n    }\n\n    .dataframe tbody tr th {\n        vertical-align: top;\n    }\n\n    .dataframe thead th {\n        text-align: right;\n    }\n</style>\n<table border=\"1\" class=\"dataframe\">\n  <thead>\n    <tr style=\"text-align: right;\">\n      <th></th>\n      <th>filename</th>\n      <th>ranking</th>\n    </tr>\n  </thead>\n  <tbody>\n    <tr>\n      <th>0000.png</th>\n      <td>0000.png</td>\n      <td>8222.png 2023.png 7420.png 7447.png 8492.png 1...</td>\n    </tr>\n    <tr>\n      <th>0001.png</th>\n      <td>0001.png</td>\n      <td>5193.png 5029.png 1995.png 1149.png 6470.png 3...</td>\n    </tr>\n    <tr>\n      <th>0002.png</th>\n      <td>0002.png</td>\n      <td>5492.png 7688.png 3977.png 1858.png 2448.png 5...</td>\n    </tr>\n    <tr>\n      <th>0003.png</th>\n      <td>0003.png</td>\n      <td>6017.png 1393.png 1348.png 5911.png 9169.png 3...</td>\n    </tr>\n    <tr>\n      <th>0004.png</th>\n      <td>0004.png</td>\n      <td>6371.png 4593.png 7238.png 0258.png 2470.png 2...</td>\n    </tr>\n  </tbody>\n</table>\n</div>"
     },
     "execution_count": 14,
     "metadata": {},
     "output_type": "execute_result"
    }
   ],
   "source": [
    "new_df.head()"
   ],
   "metadata": {
    "collapsed": false,
    "ExecuteTime": {
     "start_time": "2023-05-05T16:49:13.893402Z",
     "end_time": "2023-05-05T16:49:13.898337Z"
    }
   }
  },
  {
   "cell_type": "code",
   "execution_count": 15,
   "outputs": [],
   "source": [
    "new_df.to_csv(\"BestSimilarNames152.csv\", sep=',', index=False)"
   ],
   "metadata": {
    "collapsed": false,
    "ExecuteTime": {
     "start_time": "2023-05-05T16:49:24.790037Z",
     "end_time": "2023-05-05T16:49:24.824072Z"
    }
   }
  },
  {
   "cell_type": "code",
   "execution_count": 170,
   "outputs": [],
   "source": [
    "test = new_df['filename']\n",
    "test = list(test)"
   ],
   "metadata": {
    "collapsed": false,
    "ExecuteTime": {
     "start_time": "2023-05-04T16:46:15.980489Z",
     "end_time": "2023-05-04T16:46:16.058790Z"
    }
   }
  }
 ],
 "metadata": {
  "kernelspec": {
   "name": "python3",
   "language": "python",
   "display_name": "Python 3 (ipykernel)"
  },
  "language_info": {
   "codemirror_mode": {
    "name": "ipython",
    "version": 2
   },
   "file_extension": ".py",
   "mimetype": "text/x-python",
   "name": "python",
   "nbconvert_exporter": "python",
   "pygments_lexer": "ipython2",
   "version": "2.7.6"
  }
 },
 "nbformat": 4,
 "nbformat_minor": 0
}
